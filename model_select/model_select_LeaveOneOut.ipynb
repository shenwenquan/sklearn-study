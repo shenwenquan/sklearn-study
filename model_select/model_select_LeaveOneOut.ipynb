{
 "cells": [
  {
   "cell_type": "markdown",
   "metadata": {},
   "source": [
    "LeaveOneOut"
   ]
  },
  {
   "cell_type": "code",
   "execution_count": 1,
   "metadata": {
    "collapsed": true
   },
   "outputs": [
    {
     "name": "stdout",
     "output_type": "stream",
     "text": [
      "LeaveOneOut()\nTrain : [1 2 3 4 5] ,Test : [0]\nTrain : [0 2 3 4 5] ,Test : [1]\nTrain : [0 1 3 4 5] ,Test : [2]\nTrain : [0 1 2 4 5] ,Test : [3]\nTrain : [0 1 2 3 5] ,Test : [4]\nTrain : [0 1 2 3 4] ,Test : [5]\n"
     ]
    }
   ],
   "source": [
    "import numpy as np \n",
    "from sklearn.model_selection import LeaveOneOut\n",
    "\n",
    "X = np.array([[1, 2], [3, 4], [5, 6], [7, 8], [9, 10], [11, 12]])\n",
    "y = np.array([1, 2, 3, 4, 5, 6])\n",
    "\n",
    "loo = LeaveOneOut()\n",
    "loo.get_n_splits(X)\n",
    "\n",
    "print(loo)\n",
    "\n",
    "for train_index, test_index in loo.split(X):\n",
    "    print('Train :', train_index, ',Test :', test_index)\n",
    "    X_train, X_test = X[train_index], X[test_index]\n",
    "    y_train, y_test = y[train_index], y[test_index]\n"
   ]
  },
  {
   "cell_type": "markdown",
   "metadata": {},
   "source": [
    "LeavePOut"
   ]
  },
  {
   "cell_type": "code",
   "execution_count": 2,
   "metadata": {},
   "outputs": [
    {
     "name": "stdout",
     "output_type": "stream",
     "text": [
      "LeavePOut(p=3)\nTrain : [3 4 5] ,Test : [0 1 2]\nTrain : [2 4 5] ,Test : [0 1 3]\nTrain : [2 3 5] ,Test : [0 1 4]\nTrain : [2 3 4] ,Test : [0 1 5]\nTrain : [1 4 5] ,Test : [0 2 3]\nTrain : [1 3 5] ,Test : [0 2 4]\nTrain : [1 3 4] ,Test : [0 2 5]\nTrain : [1 2 5] ,Test : [0 3 4]\nTrain : [1 2 4] ,Test : [0 3 5]\nTrain : [1 2 3] ,Test : [0 4 5]\nTrain : [0 4 5] ,Test : [1 2 3]\nTrain : [0 3 5] ,Test : [1 2 4]\nTrain : [0 3 4] ,Test : [1 2 5]\nTrain : [0 2 5] ,Test : [1 3 4]\nTrain : [0 2 4] ,Test : [1 3 5]\nTrain : [0 2 3] ,Test : [1 4 5]\nTrain : [0 1 5] ,Test : [2 3 4]\nTrain : [0 1 4] ,Test : [2 3 5]\nTrain : [0 1 3] ,Test : [2 4 5]\nTrain : [0 1 2] ,Test : [3 4 5]\n"
     ]
    }
   ],
   "source": [
    "from sklearn.model_selection import LeavePOut\n",
    "\n",
    "X = np.array([[1, 2], [3, 4], [5, 6], [7, 8], [9, 10], [11, 12]])\n",
    "y = np.array([1, 2, 3, 4, 5, 6])\n",
    "\n",
    "lpo = LeavePOut(p=3)\n",
    "lpo.get_n_splits(X)\n",
    "\n",
    "print(lpo)\n",
    "\n",
    "for train_index, test_index in lpo.split(X):\n",
    "    print('Train :', train_index, ',Test :', test_index)\n",
    "    X_train, X_test = X[train_index], X[test_index]\n",
    "    y_train, y_test = y[train_index], y[test_index]\n"
   ]
  },
  {
   "cell_type": "code",
   "execution_count": 3,
   "metadata": {},
   "outputs": [],
   "source": []
  },
  {
   "cell_type": "code",
   "execution_count": null,
   "metadata": {},
   "outputs": [],
   "source": []
  }
 ],
 "metadata": {
  "kernelspec": {
   "display_name": "Python 2",
   "language": "python",
   "name": "python2"
  },
  "language_info": {
   "codemirror_mode": {
    "name": "ipython",
    "version": 2
   },
   "file_extension": ".py",
   "mimetype": "text/x-python",
   "name": "python",
   "nbconvert_exporter": "python",
   "pygments_lexer": "ipython2",
   "version": "2.7.6"
  }
 },
 "nbformat": 4,
 "nbformat_minor": 0
}
