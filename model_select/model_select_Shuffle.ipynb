{
 "cells": [
  {
   "cell_type": "markdown",
   "metadata": {
    "collapsed": true
   },
   "source": [
    "ShuffleSplit"
   ]
  },
  {
   "cell_type": "code",
   "execution_count": 1,
   "metadata": {},
   "outputs": [
    {
     "name": "stdout",
     "output_type": "stream",
     "text": [
      "ShuffleSplit(n_splits=3, random_state=0, test_size=0.25, train_size=None)\nTrain : [1 3 0 4] ,Test : [5 2]\nTrain : [4 0 2 5] ,Test : [1 3]\nTrain : [1 2 4 0] ,Test : [3 5]\n=========================\nTrain : [1 3 0 4] ,Test : [5 2]\nTrain : [4 0 2 5] ,Test : [1 3]\nTrain : [1 2 4 0] ,Test : [3 5]\n"
     ]
    }
   ],
   "source": [
    "import numpy as np\n",
    "from sklearn.model_selection import ShuffleSplit\n",
    "\n",
    "X = np.array([[1, 2], [3, 4], [5, 6], [7, 8], [9, 10], [11, 12]])\n",
    "y = np.array([1, 2, 1, 2, 1, 2])\n",
    "\n",
    "rs = ShuffleSplit(n_splits=3, test_size=.25, random_state=0)\n",
    "rs.get_n_splits(X)\n",
    "\n",
    "print(rs)\n",
    "\n",
    "for train_index, test_index in rs.split(X):\n",
    "    print('Train :', train_index, ',Test :', test_index)\n",
    "    X_train, X_test = X[train_index], X[test_index]\n",
    "    y_train, y_test = y[train_index], y[test_index]\n",
    "\n",
    "print('=========================')\n",
    "\n",
    "for train_index, test_index in rs.split(X):\n",
    "    print('Train :', train_index, ',Test :', test_index)\n",
    "    X_train, X_test = X[train_index], X[test_index]\n",
    "    y_train, y_test = y[train_index], y[test_index]\n"
   ]
  },
  {
   "cell_type": "markdown",
   "metadata": {},
   "source": [
    "StratifiedShuffleSplit"
   ]
  },
  {
   "cell_type": "code",
   "execution_count": 2,
   "metadata": {},
   "outputs": [
    {
     "name": "stdout",
     "output_type": "stream",
     "text": [
      "StratifiedShuffleSplit(n_splits=4, random_state=0, test_size=0.5,\n            train_size=None)\nTrain : [5 4 1] ,Test : [3 2 0]\nTrain : [5 2 3] ,Test : [0 4 1]\nTrain : [5 0 4] ,Test : [3 1 2]\nTrain : [3 2 0] ,Test : [4 1 5]\n=========================\n"
     ]
    }
   ],
   "source": [
    "import numpy as np\n",
    "from sklearn.model_selection import StratifiedShuffleSplit\n",
    "\n",
    "X = np.array([[1, 2], [3, 4], [5, 6], [7, 8], [9, 10], [11, 12]])\n",
    "y = np.array([1, 2, 1, 2, 1, 2])\n",
    "\n",
    "rs = StratifiedShuffleSplit(n_splits=4, test_size=.5, random_state=0)\n",
    "rs.get_n_splits(X,y)\n",
    "\n",
    "print(rs)\n",
    "\n",
    "for train_index, test_index in rs.split(X,y):\n",
    "    print('Train :', train_index, ',Test :', test_index)\n",
    "    X_train, X_test = X[train_index], X[test_index]\n",
    "    y_train, y_test = y[train_index], y[test_index]\n",
    "\n",
    "print('=========================')\n"
   ]
  },
  {
   "cell_type": "code",
   "execution_count": 3,
   "metadata": {},
   "outputs": [],
   "source": []
  },
  {
   "cell_type": "code",
   "execution_count": null,
   "metadata": {},
   "outputs": [],
   "source": []
  }
 ],
 "metadata": {
  "kernelspec": {
   "display_name": "Python 2",
   "language": "python",
   "name": "python2"
  },
  "language_info": {
   "codemirror_mode": {
    "name": "ipython",
    "version": 2
   },
   "file_extension": ".py",
   "mimetype": "text/x-python",
   "name": "python",
   "nbconvert_exporter": "python",
   "pygments_lexer": "ipython2",
   "version": "2.7.6"
  }
 },
 "nbformat": 4,
 "nbformat_minor": 0
}
