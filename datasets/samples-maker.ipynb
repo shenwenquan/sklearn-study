{
 "cells": [
  {
   "cell_type": "markdown",
   "metadata": {
    "collapsed": true
   },
   "source": [
    "#SKLearn计算合成数据集的API用法"
   ]
  },
  {
   "cell_type": "markdown",
   "metadata": {},
   "source": [
    "第一种类型：多类单标签数据集"
   ]
  },
  {
   "cell_type": "markdown",
   "metadata": {},
   "source": [
    "make_blob  测试聚类算法"
   ]
  },
  {
   "cell_type": "code",
   "execution_count": 2,
   "metadata": {},
   "outputs": [
    {
     "name": "stdout",
     "output_type": "stream",
     "text": [
      "X.shape: (200, 2)\nlabels: {0, 1, 2}\n"
     ]
    }
   ],
   "source": [
    "import numpy as np\n",
    "import matplotlib.pyplot as plt\n",
    "from sklearn.datasets.samples_generator import make_blobs\n",
    "\n",
    "centers = [[1, 1], [-1, -1], [1, -1]]\n",
    "cluster_std = 0.3\n",
    "\n",
    "X, labels = make_blobs(n_samples=200, centers=centers, n_features=2, cluster_std=cluster_std, random_state=0)\n",
    "print('X.shape:', X.shape)\n",
    "print('labels:', set(labels))\n",
    "\n",
    "unique_labels = set(labels)\n",
    "colors = plt.cm.Spectral(np.linspace(0, 1, len(unique_labels)))\n",
    "\n",
    "for k, col in zip(unique_labels, colors):\n",
    "    X_k = X[labels == k]\n",
    "    plt.plot(X_k[:, 0], X_k[:, 1], 'o', markerfacecolor=col, markeredgecolor='k', markersize=14)\n",
    "plt.title('dataset by make_blob()')\n",
    "\n",
    "plt.show()\n"
   ]
  },
  {
   "cell_type": "markdown",
   "metadata": {},
   "source": [
    "make_classification 测试分类"
   ]
  },
  {
   "cell_type": "code",
   "execution_count": 1,
   "metadata": {},
   "outputs": [
    {
     "ename": "NameError",
     "evalue": "name 'np' is not defined",
     "traceback": [
      "\u001b[0;31m---------------------------------------------------------------------------\u001b[0m",
      "\u001b[0;31mNameError\u001b[0m                                 Traceback (most recent call last)",
      "\u001b[0;32m<ipython-input-1-efc8e871b45c>\u001b[0m in \u001b[0;36m<module>\u001b[0;34m()\u001b[0m\n\u001b[1;32m      7\u001b[0m                                 \u001b[0mrandom_state\u001b[0m\u001b[0;34m=\u001b[0m\u001b[0;36m1\u001b[0m\u001b[0;34m,\u001b[0m\u001b[0;34m\u001b[0m\u001b[0m\n\u001b[1;32m      8\u001b[0m                                 n_clusters_per_class=1)\n\u001b[0;32m----> 9\u001b[0;31m \u001b[0mrng\u001b[0m \u001b[0;34m=\u001b[0m \u001b[0mnp\u001b[0m\u001b[0;34m.\u001b[0m\u001b[0mrandom\u001b[0m\u001b[0;34m.\u001b[0m\u001b[0mRandomState\u001b[0m\u001b[0;34m(\u001b[0m\u001b[0;36m2\u001b[0m\u001b[0;34m)\u001b[0m\u001b[0;34m\u001b[0m\u001b[0m\n\u001b[0m\u001b[1;32m     10\u001b[0m \u001b[0mX\u001b[0m \u001b[0;34m+=\u001b[0m \u001b[0;36m2\u001b[0m \u001b[0;34m*\u001b[0m \u001b[0mrng\u001b[0m\u001b[0;34m.\u001b[0m\u001b[0muniform\u001b[0m\u001b[0;34m(\u001b[0m\u001b[0msize\u001b[0m\u001b[0;34m=\u001b[0m\u001b[0mX\u001b[0m\u001b[0;34m.\u001b[0m\u001b[0mshape\u001b[0m\u001b[0;34m)\u001b[0m\u001b[0;34m\u001b[0m\u001b[0m\n\u001b[1;32m     11\u001b[0m \u001b[0;34m\u001b[0m\u001b[0m\n",
      "\u001b[0;31mNameError\u001b[0m: name 'np' is not defined"
     ],
     "output_type": "error"
    }
   ],
   "source": [
    "from sklearn.datasets.samples_generator import make_classification\n",
    "\n",
    "X, labels = make_classification(n_samples=200,\n",
    "                                n_features=2,\n",
    "                                n_redundant=0,\n",
    "                                n_informative=2,\n",
    "                                random_state=1,\n",
    "                                n_clusters_per_class=1)\n",
    "rng = np.random.RandomState(2)\n",
    "X += 2 * rng.uniform(size=X.shape)\n",
    "\n",
    "unique_labels = set(labels)\n",
    "colors = plt.cm.Spectral(np.linspace(0, 1, len(unique_labels)))\n",
    "\n",
    "for k, col in zip(unique_labels, colors):\n",
    "    X_k = X[labels == k]\n",
    "    plt.plot(X_k[:, 0], X_k[:, 1], '*', markerfacecolor=col, markeredgecolor='k', markersize=14)\n",
    "plt.title('dataset by make_classification()')\n",
    "\n",
    "plt.show()\n",
    "\n"
   ]
  },
  {
   "cell_type": "markdown",
   "metadata": {},
   "source": [
    "两类单标签"
   ]
  },
  {
   "cell_type": "markdown",
   "metadata": {},
   "source": [
    "make_moons"
   ]
  },
  {
   "cell_type": "code",
   "execution_count": 21,
   "metadata": {},
   "outputs": [
    {
     "name": "stdout",
     "output_type": "stream",
     "text": [
      "X.shape: (200, 2)\nlabels: {0, 1}\n"
     ]
    }
   ],
   "source": [
    "from sklearn.datasets.samples_generator import make_moons\n",
    "\n",
    "X, labels = make_moons(n_samples=200,\n",
    "                       shuffle=True,\n",
    "                       noise=0.3,\n",
    "                       random_state=0)\n",
    "print('X.shape:', X.shape)\n",
    "print('labels:', set(labels))\n",
    "\n",
    "nique_labels = set(labels)\n",
    "colors = plt.cm.Spectral(np.linspace(0, 1, len(unique_labels)))\n",
    "\n",
    "for k, col in zip(unique_labels, colors):\n",
    "    X_k = X[labels == k]\n",
    "    plt.plot(X_k[:, 0], X_k[:, 1], 'o', markerfacecolor=col, markeredgecolor='k', markersize=14)\n",
    "plt.title('dataset by make_moons()')\n",
    "\n",
    "plt.show()\n"
   ]
  },
  {
   "cell_type": "markdown",
   "metadata": {},
   "source": [
    "make_circles"
   ]
  },
  {
   "cell_type": "code",
   "execution_count": 24,
   "metadata": {},
   "outputs": [
    {
     "name": "stdout",
     "output_type": "stream",
     "text": [
      "X.shape: (200, 2)\nlabels: {0, 1}\n"
     ]
    }
   ],
   "source": [
    "from sklearn.datasets.samples_generator import make_circles\n",
    "\n",
    "X, labels = make_circles(n_samples=200,\n",
    "                         noise=0.3,\n",
    "                         factor=0.8,\n",
    "                         random_state=0)\n",
    "print('X.shape:', X.shape)\n",
    "print('labels:', set(labels))\n",
    "\n",
    "nique_labels = set(labels)\n",
    "colors = plt.cm.Spectral(np.linspace(0, 1, len(unique_labels)))\n",
    "\n",
    "for k, col in zip(unique_labels, colors):\n",
    "    X_k = X[labels == k]\n",
    "    plt.plot(X_k[:, 0], X_k[:, 1], 'o', markerfacecolor=col, markeredgecolor='k', markersize=14)\n",
    "plt.title('dataset by make_circles()')\n",
    "\n",
    "plt.show()\n"
   ]
  },
  {
   "cell_type": "code",
   "execution_count": null,
   "metadata": {},
   "outputs": [],
   "source": []
  }
 ],
 "metadata": {
  "kernelspec": {
   "display_name": "Python 2",
   "language": "python",
   "name": "python2"
  },
  "language_info": {
   "codemirror_mode": {
    "name": "ipython",
    "version": 2
   },
   "file_extension": ".py",
   "mimetype": "text/x-python",
   "name": "python",
   "nbconvert_exporter": "python",
   "pygments_lexer": "ipython2",
   "version": "2.7.6"
  }
 },
 "nbformat": 4,
 "nbformat_minor": 0
}
