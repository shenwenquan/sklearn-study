{
 "cells": [
  {
   "cell_type": "markdown",
   "metadata": {
    "collapsed": true
   },
   "source": [
    "#20组新闻文本数据集API用法详解"
   ]
  },
  {
   "cell_type": "markdown",
   "metadata": {},
   "source": [
    "##第一节  用法"
   ]
  },
  {
   "cell_type": "code",
   "execution_count": 5,
   "metadata": {},
   "outputs": [
    {
     "name": "stdout",
     "output_type": "stream",
     "text": [
      "/Users/ice/scikit_learn_data\n"
     ]
    }
   ],
   "source": [
    "from sklearn.datasets import get_data_home\n",
    "print(get_data_home())"
   ]
  },
  {
   "cell_type": "code",
   "execution_count": 23,
   "metadata": {
    "collapsed": false
   },
   "outputs": [
    {
     "name": "stdout",
     "output_type": "stream",
     "text": [
      "['alt.atheism',\n 'comp.graphics',\n 'comp.os.ms-windows.misc',\n 'comp.sys.ibm.pc.hardware',\n 'comp.sys.mac.hardware',\n 'comp.windows.x',\n 'misc.forsale',\n 'rec.autos',\n 'rec.motorcycles',\n 'rec.sport.baseball',\n 'rec.sport.hockey',\n 'sci.crypt',\n 'sci.electronics',\n 'sci.med',\n 'sci.space',\n 'soc.religion.christian',\n 'talk.politics.guns',\n 'talk.politics.mideast',\n 'talk.politics.misc',\n 'talk.religion.misc']\n"
     ]
    }
   ],
   "source": [
    "from sklearn.datasets import fetch_20newsgroups\n",
    "\n",
    "#处理连接超时问题\n",
    "import ssl\n",
    "ssl._create_default_https_context = ssl._create_unverified_context\n",
    "\n",
    "newsgroups_train = fetch_20newsgroups(data_home='./scikit_learn_data', subset='train')\n",
    "\n",
    "from pprint import pprint\n",
    "\n",
    "pprint(list(newsgroups_train.target_names))\n"
   ]
  },
  {
   "cell_type": "markdown",
   "metadata": {},
   "source": [
    "真正的数据存放在’filenames’和‘target’中，‘filenames’里面是新闻文本文件名，‘target’里面是新闻类别的标签（用正整数来表示）"
   ]
  },
  {
   "cell_type": "code",
   "execution_count": 12,
   "metadata": {
    "collapsed": true
   },
   "outputs": [
    {
     "name": "stdout",
     "output_type": "stream",
     "text": [
      "(1073,)\n(1073,)\n[0 1 1 1 0 1 1 0 0 0]\n"
     ]
    }
   ],
   "source": [
    "print(newsgroups_train.filenames.shape)\n",
    "print(newsgroups_train.target.shape)\n",
    "print(newsgroups_train.target[:10])"
   ]
  },
  {
   "cell_type": "markdown",
   "metadata": {},
   "source": [
    "我们也可以为‘fetch_20newsgroup’函数指定加载的新闻类别，给它传入一个新闻类别的名称的list亦是就可以了"
   ]
  },
  {
   "cell_type": "code",
   "execution_count": 17,
   "metadata": {},
   "outputs": [
    {
     "name": "stdout",
     "output_type": "stream",
     "text": [
      "['alt.atheism', 'comp.os.ms-windows.misc', 'sci.crypt', 'sci.space', 'talk.religion.misc']\n(2636,)\n(2636,)\n[3 4 2 4 2 3 3 2 1 1]\n"
     ]
    }
   ],
   "source": [
    "cats = ['alt.atheism', 'sci.space', 'sci.crypt', 'talk.religion.misc', 'comp.os.ms-windows.misc']\n",
    "newsgroups_train = fetch_20newsgroups(data_home='./scikit_learn_data', subset='train', categories=cats)\n",
    "print(list(newsgroups_train.target_names))\n",
    "print(newsgroups_train.filenames.shape)\n",
    "print(newsgroups_train.target.shape)\n",
    "print(newsgroups_train.target[:10])\n"
   ]
  },
  {
   "cell_type": "markdown",
   "metadata": {},
   "source": [
    "#第二节  把文本内容转换为特征向量\n",
    "\n",
    "为了把文本内容传递到学习器学习，我们首先要把文本内容转换成计算机理解的数字向量，然后用统计机器学习的方法去发现其内部隐藏的规律，这个特征提取的任务\n",
    "可以通过‘sklearn.feature_extraction.text’来实现。最后文本内容就变成了一种‘TF-IDF’的一元语言模型向量"
   ]
  },
  {
   "cell_type": "code",
   "execution_count": 20,
   "metadata": {},
   "outputs": [
    {
     "name": "stdout",
     "output_type": "stream",
     "text": [
      "(2034, 34118)\n"
     ]
    }
   ],
   "source": [
    "from sklearn.feature_extraction.text import TfidfVectorizer\n",
    "categories =['alt.atheism','talk.religion.misc','comp.graphics','sci.space']\n",
    "newsgroups_train = fetch_20newsgroups(data_home='./scikit_learn_data', subset='train', categories=categories)\n",
    "\n",
    "vectorizer = TfidfVectorizer()\n",
    "vectors = vectorizer.fit_transform(newsgroups_train.data)\n",
    "print(vectors.shape)"
   ]
  },
  {
   "cell_type": "markdown",
   "metadata": {},
   "source": [
    "抽取得到的TF-IDF向量是非常稀疏的，平均有159个特征分量，在超过30000维空间里面采样得到"
   ]
  },
  {
   "cell_type": "code",
   "execution_count": 21,
   "metadata": {},
   "outputs": [
    {
     "data": {
      "text/plain": [
       "159.0132743362832"
      ]
     },
     "execution_count": 21,
     "metadata": {},
     "output_type": "execute_result"
    }
   ],
   "source": [
    "vectors.nnz /float(vectors.shape[0])"
   ]
  },
  {
   "cell_type": "markdown",
   "metadata": {},
   "source": [
    "'sklearn.datasets.fetch_20newsgroups_vectorized'函数可以直接返回文本的特征分量，不用再去抽取了"
   ]
  }
 ],
 "metadata": {
  "kernelspec": {
   "display_name": "Python 2",
   "language": "python",
   "name": "python2"
  },
  "language_info": {
   "codemirror_mode": {
    "name": "ipython",
    "version": 2
   },
   "file_extension": ".py",
   "mimetype": "text/x-python",
   "name": "python",
   "nbconvert_exporter": "python",
   "pygments_lexer": "ipython2",
   "version": "2.7.6"
  }
 },
 "nbformat": 4,
 "nbformat_minor": 0
}
