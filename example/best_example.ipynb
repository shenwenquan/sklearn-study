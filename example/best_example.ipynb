{
 "cells": [
  {
   "cell_type": "code",
   "execution_count": 3,
   "metadata": {
    "collapsed": false
   },
   "outputs": [
    {
     "name": "stdout",
     "output_type": "stream",
     "text": [
      "[False False  True  True]\n"
     ]
    },
    {
     "data": {
      "text/plain": [
       "0.9644444444444444"
      ]
     },
     "execution_count": 3,
     "metadata": {},
     "output_type": "execute_result"
    }
   ],
   "source": [
    "from sklearn import svm\n",
    "from sklearn.datasets import load_iris\n",
    "from sklearn.feature_selection import SelectKBest\n",
    "from sklearn.feature_selection import f_regression\n",
    "from sklearn.model_selection import ShuffleSplit\n",
    "from sklearn.model_selection import cross_val_score\n",
    "from sklearn.pipeline import Pipeline\n",
    "\n",
    "iris = load_iris()\n",
    "\n",
    "#设置数据交叉验证，划分\n",
    "cv = ShuffleSplit(n_splits=10, test_size=.3, random_state=0)\n",
    "\n",
    "#特征选择\n",
    "anova_filter = SelectKBest(f_regression, k=5)\n",
    "\n",
    "#设置模型算法\n",
    "clf = svm.SVC(kernel='linear')\n",
    "\n",
    "#组装试训练进程管线，并设置参数\n",
    "pipeline = Pipeline([('anova', anova_filter), ('svc', clf)])\n",
    "pipeline.set_params(anova__k=2, svc__C=.1)\n",
    "pipeline.fit(iris.data, iris.target)\n",
    "\n",
    "#查看被选择的特征\n",
    "print(pipeline.named_steps['anova'].get_support())\n",
    "#验证得分\n",
    "scores = cross_val_score(pipeline, iris.data, iris.target, cv=cv)\n",
    "scores.mean()\n",
    "\n"
   ]
  },
  {
   "cell_type": "code",
   "execution_count": 3,
   "metadata": {},
   "outputs": [],
   "source": []
  },
  {
   "cell_type": "code",
   "execution_count": 39,
   "metadata": {},
   "outputs": [],
   "source": []
  },
  {
   "cell_type": "code",
   "execution_count": 39,
   "metadata": {},
   "outputs": [],
   "source": []
  },
  {
   "cell_type": "code",
   "execution_count": null,
   "metadata": {},
   "outputs": [],
   "source": []
  }
 ],
 "metadata": {
  "kernelspec": {
   "display_name": "Python 2",
   "language": "python",
   "name": "python2"
  },
  "language_info": {
   "codemirror_mode": {
    "name": "ipython",
    "version": 2
   },
   "file_extension": ".py",
   "mimetype": "text/x-python",
   "name": "python",
   "nbconvert_exporter": "python",
   "pygments_lexer": "ipython2",
   "version": "2.7.6"
  }
 },
 "nbformat": 4,
 "nbformat_minor": 0
}
